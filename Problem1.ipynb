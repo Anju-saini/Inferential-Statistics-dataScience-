{
  "nbformat": 4,
  "nbformat_minor": 0,
  "metadata": {
    "colab": {
      "provenance": []
    },
    "kernelspec": {
      "name": "python3",
      "display_name": "Python 3"
    },
    "language_info": {
      "name": "python"
    }
  },
  "cells": [
    {
      "cell_type": "markdown",
      "source": [
        "**Problem 1**"
      ],
      "metadata": {
        "id": "Yz1O8Wz3ey1T"
      }
    },
    {
      "cell_type": "markdown",
      "source": [
        "**A physiotherapist with a male football team is interested in studying the relationship between foot injuries and the positions at which the players play from the data collected.**"
      ],
      "metadata": {
        "id": "itivr_OEQq96"
      }
    },
    {
      "cell_type": "markdown",
      "source": [
        "Position\tInjured\tNot Injured\tTotal\n",
        "\n",
        "Striker\t    45\t32\t77\n",
        "\n",
        "Forward   \t56\t38\t94\n",
        "\n",
        "Attacking Midfielder\t24\t11\t35\n",
        "\n",
        "Winger\t20\t9\t29\n",
        "\n",
        "Total\t145\t90\t235"
      ],
      "metadata": {
        "id": "wQtK02NxZ_vB"
      }
    },
    {
      "cell_type": "code",
      "execution_count": null,
      "metadata": {
        "id": "XoxZZu6VQYel"
      },
      "outputs": [],
      "source": [
        "total_players = 235\n",
        "injured_players = 145\n",
        "not_injured_players = 90"
      ]
    },
    {
      "cell_type": "code",
      "source": [
        "positions = {\n",
        "    \"Striker\": {\"Injured\": 45, \"Not Injured\": 32},\n",
        "    \"Forward\": {\"Injured\": 56, \"Not Injured\": 38},\n",
        "    \"Attacking Midfielder\": {\"Injured\": 24, \"Not Injured\": 11},\n",
        "    \"Winger\": {\"Injured\": 20, \"Not Injured\": 9}\n",
        "}"
      ],
      "metadata": {
        "id": "LlcgEQrkanY6"
      },
      "execution_count": null,
      "outputs": []
    },
    {
      "cell_type": "markdown",
      "source": [
        "1.1. Probability that a randomly chosen player is injured"
      ],
      "metadata": {
        "id": "e79tBbecacoo"
      }
    },
    {
      "cell_type": "markdown",
      "source": [
        "**Geting Injured Playes**\n",
        "\n",
        "Player Injury = Injured Players/ Total players"
      ],
      "metadata": {
        "id": "alxZiDticUQO"
      }
    },
    {
      "cell_type": "code",
      "source": [
        "player_injured = injured_players / total_players\n",
        "print(f\"Probability that a randomly chosen player is injured: {player_injured}\")"
      ],
      "metadata": {
        "colab": {
          "base_uri": "https://localhost:8080/"
        },
        "id": "v0NMkWXIaxu7",
        "outputId": "3a03ec86-67a6-49e4-a9db-fc4c822c5350"
      },
      "execution_count": null,
      "outputs": [
        {
          "output_type": "stream",
          "name": "stdout",
          "text": [
            "Probability that a randomly chosen player is injured: 0.6170212765957447\n"
          ]
        }
      ]
    },
    {
      "cell_type": "markdown",
      "source": [
        "1.2 What is the probability that a player is a forward or a winger?"
      ],
      "metadata": {
        "id": "q85eGL1obEKW"
      }
    },
    {
      "cell_type": "markdown",
      "source": [
        "**Probability that a player is a Forward or Winger**\n",
        "\n",
        "P(Forward or Winger)=(Total Forwards+Total Wingers)/Total Players\n",
        "​\n"
      ],
      "metadata": {
        "id": "g0UwZN6ucsVc"
      }
    },
    {
      "cell_type": "code",
      "source": [
        "prob_forward_or_winger = (94 + 29) / total_players\n",
        "print(f\"Probability that a player is a forward or a winger: {prob_forward_or_winger}\")\n"
      ],
      "metadata": {
        "colab": {
          "base_uri": "https://localhost:8080/"
        },
        "id": "l_OCnnB2bFOx",
        "outputId": "42cf131f-d62f-485b-f4a1-a008724e591b"
      },
      "execution_count": null,
      "outputs": [
        {
          "output_type": "stream",
          "name": "stdout",
          "text": [
            "Probability that a player is a forward or a winger: 0.5234042553191489\n"
          ]
        }
      ]
    },
    {
      "cell_type": "markdown",
      "source": [
        "1.3 What is the probability that a randomly chosen player plays in a striker position and has a foot injury?"
      ],
      "metadata": {
        "id": "HXg9aahJbQIR"
      }
    },
    {
      "cell_type": "markdown",
      "source": [
        "**Probability that a player is a Striker and Injured**\n",
        "\n",
        "P(Striker and Injured)= Striker injured/Total Players\n",
        "​\n"
      ],
      "metadata": {
        "id": "c6lGLXeTdXQv"
      }
    },
    {
      "cell_type": "code",
      "source": [
        "prob_striker_and_injured = positions[\"Striker\"][\"Injured\"] / total_players\n",
        "print(f\"Probability that a striker is injured: {prob_striker_and_injured}\")"
      ],
      "metadata": {
        "colab": {
          "base_uri": "https://localhost:8080/"
        },
        "id": "nZIfuOfnbQWc",
        "outputId": "0e22611a-3521-404e-ac1c-c04bf96aa261"
      },
      "execution_count": null,
      "outputs": [
        {
          "output_type": "stream",
          "name": "stdout",
          "text": [
            "Probability that a striker is injured: 0.19148936170212766\n"
          ]
        }
      ]
    },
    {
      "cell_type": "markdown",
      "source": [
        "1.4 What is the probability that a randomly chosen injured player is a striker?"
      ],
      "metadata": {
        "id": "1cH5XVVkbc2t"
      }
    },
    {
      "cell_type": "markdown",
      "source": [
        "**Probability that an Injured Player is a Striker**\n",
        "\n",
        "\n",
        "P(Striker OR Injured)= Striker injured/Total injured​"
      ],
      "metadata": {
        "id": "09XoPw-aebdQ"
      }
    },
    {
      "cell_type": "code",
      "source": [
        "prob_striker_given_injured = positions[\"Striker\"][\"Injured\"] / injured_players\n",
        "print(f\"Probability that a randomly chosen injured player is a striker: {prob_striker_given_injured}\")"
      ],
      "metadata": {
        "colab": {
          "base_uri": "https://localhost:8080/"
        },
        "id": "QH9qyOE_bSAW",
        "outputId": "e26a5bc8-823b-479a-a7a7-208de2fa4f98"
      },
      "execution_count": null,
      "outputs": [
        {
          "output_type": "stream",
          "name": "stdout",
          "text": [
            "Probability that a randomly chosen injured player is a striker: 0.3103448275862069\n"
          ]
        }
      ]
    }
  ]
}