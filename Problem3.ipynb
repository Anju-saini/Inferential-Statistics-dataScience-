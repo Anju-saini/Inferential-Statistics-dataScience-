{
  "nbformat": 4,
  "nbformat_minor": 0,
  "metadata": {
    "colab": {
      "provenance": []
    },
    "kernelspec": {
      "name": "python3",
      "display_name": "Python 3"
    },
    "language_info": {
      "name": "python"
    }
  },
  "cells": [
    {
      "cell_type": "markdown",
      "source": [
        "**Problem 3**"
      ],
      "metadata": {
        "id": "fHwmieptlfd7"
      }
    },
    {
      "cell_type": "markdown",
      "source": [
        "Zingaro stone printing is a company that specializes in printing images or patterns on polished or unpolished stones. However, for the optimum level of printing of the image, the stone surface has to have a Brinell's hardness index of at least 150. Recently, Zingaro has received a batch of polished and unpolished stones from its clients. Use the data provided to answer the following (assuming a 5% significance level);"
      ],
      "metadata": {
        "id": "Fu0zUVxvldTK"
      }
    },
    {
      "cell_type": "markdown",
      "source": [
        "**Import Libraries**"
      ],
      "metadata": {
        "id": "ItFzUgNQpF98"
      }
    },
    {
      "cell_type": "code",
      "execution_count": null,
      "metadata": {
        "id": "mue4JzYylVwE"
      },
      "outputs": [],
      "source": [
        "import pandas as pd\n",
        "import numpy as np\n",
        "from scipy import stats\n",
        "import matplotlib.pyplot as plt\n",
        "import seaborn as sns"
      ]
    },
    {
      "cell_type": "code",
      "source": [
        "from google.colab import drive\n",
        "drive.mount('/content/drive')"
      ],
      "metadata": {
        "colab": {
          "base_uri": "https://localhost:8080/"
        },
        "id": "NPX933koprch",
        "outputId": "c70e78d9-4c2b-418e-8040-2af79d1baf2a"
      },
      "execution_count": null,
      "outputs": [
        {
          "output_type": "stream",
          "name": "stdout",
          "text": [
            "Mounted at /content/drive\n"
          ]
        }
      ]
    },
    {
      "cell_type": "markdown",
      "source": [
        "Let us now load the dataset."
      ],
      "metadata": {
        "id": "6vxkgd8jvN-e"
      }
    },
    {
      "cell_type": "markdown",
      "source": [
        "**Reading the datasets**"
      ],
      "metadata": {
        "id": "xR_tgJjkvTFu"
      }
    },
    {
      "cell_type": "code",
      "source": [
        "data = pd.read_csv('/content/drive/MyDrive/Inferential Statistics Project/Zingaro_Company.csv', encoding= 'unicode_escape')"
      ],
      "metadata": {
        "id": "4zjczLDJpscj"
      },
      "execution_count": null,
      "outputs": []
    },
    {
      "cell_type": "markdown",
      "source": [
        "**Data Overview**"
      ],
      "metadata": {
        "id": "R5SHoqG8vbAx"
      }
    },
    {
      "cell_type": "markdown",
      "source": [
        "1)Observing the first few rows of the dataset\n",
        "\n",
        "2)Getting information about the number of rows and columns\n",
        "\n",
        "3)Finding out the data types of the columns\n",
        "\n",
        "4)Checking the statistical summary"
      ],
      "metadata": {
        "id": "OwY4eBtXvkz1"
      }
    },
    {
      "cell_type": "code",
      "source": [
        "data.head()"
      ],
      "metadata": {
        "colab": {
          "base_uri": "https://localhost:8080/",
          "height": 206
        },
        "id": "xmV1fnPpu_rB",
        "outputId": "c81ba272-afaf-408e-eb32-96eef049f079"
      },
      "execution_count": null,
      "outputs": [
        {
          "output_type": "execute_result",
          "data": {
            "text/plain": [
              "   Unpolished   Treated and Polished\n",
              "0   164.481713            133.209393\n",
              "1   154.307045            138.482771\n",
              "2   129.861048            159.665201\n",
              "3   159.096184            145.663528\n",
              "4   135.256748            136.789227"
            ],
            "text/html": [
              "\n",
              "  <div id=\"df-4da16b8b-41cc-43fa-9817-aa3e858744da\" class=\"colab-df-container\">\n",
              "    <div>\n",
              "<style scoped>\n",
              "    .dataframe tbody tr th:only-of-type {\n",
              "        vertical-align: middle;\n",
              "    }\n",
              "\n",
              "    .dataframe tbody tr th {\n",
              "        vertical-align: top;\n",
              "    }\n",
              "\n",
              "    .dataframe thead th {\n",
              "        text-align: right;\n",
              "    }\n",
              "</style>\n",
              "<table border=\"1\" class=\"dataframe\">\n",
              "  <thead>\n",
              "    <tr style=\"text-align: right;\">\n",
              "      <th></th>\n",
              "      <th>Unpolished</th>\n",
              "      <th>Treated and Polished</th>\n",
              "    </tr>\n",
              "  </thead>\n",
              "  <tbody>\n",
              "    <tr>\n",
              "      <th>0</th>\n",
              "      <td>164.481713</td>\n",
              "      <td>133.209393</td>\n",
              "    </tr>\n",
              "    <tr>\n",
              "      <th>1</th>\n",
              "      <td>154.307045</td>\n",
              "      <td>138.482771</td>\n",
              "    </tr>\n",
              "    <tr>\n",
              "      <th>2</th>\n",
              "      <td>129.861048</td>\n",
              "      <td>159.665201</td>\n",
              "    </tr>\n",
              "    <tr>\n",
              "      <th>3</th>\n",
              "      <td>159.096184</td>\n",
              "      <td>145.663528</td>\n",
              "    </tr>\n",
              "    <tr>\n",
              "      <th>4</th>\n",
              "      <td>135.256748</td>\n",
              "      <td>136.789227</td>\n",
              "    </tr>\n",
              "  </tbody>\n",
              "</table>\n",
              "</div>\n",
              "    <div class=\"colab-df-buttons\">\n",
              "\n",
              "  <div class=\"colab-df-container\">\n",
              "    <button class=\"colab-df-convert\" onclick=\"convertToInteractive('df-4da16b8b-41cc-43fa-9817-aa3e858744da')\"\n",
              "            title=\"Convert this dataframe to an interactive table.\"\n",
              "            style=\"display:none;\">\n",
              "\n",
              "  <svg xmlns=\"http://www.w3.org/2000/svg\" height=\"24px\" viewBox=\"0 -960 960 960\">\n",
              "    <path d=\"M120-120v-720h720v720H120Zm60-500h600v-160H180v160Zm220 220h160v-160H400v160Zm0 220h160v-160H400v160ZM180-400h160v-160H180v160Zm440 0h160v-160H620v160ZM180-180h160v-160H180v160Zm440 0h160v-160H620v160Z\"/>\n",
              "  </svg>\n",
              "    </button>\n",
              "\n",
              "  <style>\n",
              "    .colab-df-container {\n",
              "      display:flex;\n",
              "      gap: 12px;\n",
              "    }\n",
              "\n",
              "    .colab-df-convert {\n",
              "      background-color: #E8F0FE;\n",
              "      border: none;\n",
              "      border-radius: 50%;\n",
              "      cursor: pointer;\n",
              "      display: none;\n",
              "      fill: #1967D2;\n",
              "      height: 32px;\n",
              "      padding: 0 0 0 0;\n",
              "      width: 32px;\n",
              "    }\n",
              "\n",
              "    .colab-df-convert:hover {\n",
              "      background-color: #E2EBFA;\n",
              "      box-shadow: 0px 1px 2px rgba(60, 64, 67, 0.3), 0px 1px 3px 1px rgba(60, 64, 67, 0.15);\n",
              "      fill: #174EA6;\n",
              "    }\n",
              "\n",
              "    .colab-df-buttons div {\n",
              "      margin-bottom: 4px;\n",
              "    }\n",
              "\n",
              "    [theme=dark] .colab-df-convert {\n",
              "      background-color: #3B4455;\n",
              "      fill: #D2E3FC;\n",
              "    }\n",
              "\n",
              "    [theme=dark] .colab-df-convert:hover {\n",
              "      background-color: #434B5C;\n",
              "      box-shadow: 0px 1px 3px 1px rgba(0, 0, 0, 0.15);\n",
              "      filter: drop-shadow(0px 1px 2px rgba(0, 0, 0, 0.3));\n",
              "      fill: #FFFFFF;\n",
              "    }\n",
              "  </style>\n",
              "\n",
              "    <script>\n",
              "      const buttonEl =\n",
              "        document.querySelector('#df-4da16b8b-41cc-43fa-9817-aa3e858744da button.colab-df-convert');\n",
              "      buttonEl.style.display =\n",
              "        google.colab.kernel.accessAllowed ? 'block' : 'none';\n",
              "\n",
              "      async function convertToInteractive(key) {\n",
              "        const element = document.querySelector('#df-4da16b8b-41cc-43fa-9817-aa3e858744da');\n",
              "        const dataTable =\n",
              "          await google.colab.kernel.invokeFunction('convertToInteractive',\n",
              "                                                    [key], {});\n",
              "        if (!dataTable) return;\n",
              "\n",
              "        const docLinkHtml = 'Like what you see? Visit the ' +\n",
              "          '<a target=\"_blank\" href=https://colab.research.google.com/notebooks/data_table.ipynb>data table notebook</a>'\n",
              "          + ' to learn more about interactive tables.';\n",
              "        element.innerHTML = '';\n",
              "        dataTable['output_type'] = 'display_data';\n",
              "        await google.colab.output.renderOutput(dataTable, element);\n",
              "        const docLink = document.createElement('div');\n",
              "        docLink.innerHTML = docLinkHtml;\n",
              "        element.appendChild(docLink);\n",
              "      }\n",
              "    </script>\n",
              "  </div>\n",
              "\n",
              "\n",
              "    <div id=\"df-899941f7-3496-40b3-8ead-d2a2bd965f2e\">\n",
              "      <button class=\"colab-df-quickchart\" onclick=\"quickchart('df-899941f7-3496-40b3-8ead-d2a2bd965f2e')\"\n",
              "                title=\"Suggest charts\"\n",
              "                style=\"display:none;\">\n",
              "\n",
              "<svg xmlns=\"http://www.w3.org/2000/svg\" height=\"24px\"viewBox=\"0 0 24 24\"\n",
              "     width=\"24px\">\n",
              "    <g>\n",
              "        <path d=\"M19 3H5c-1.1 0-2 .9-2 2v14c0 1.1.9 2 2 2h14c1.1 0 2-.9 2-2V5c0-1.1-.9-2-2-2zM9 17H7v-7h2v7zm4 0h-2V7h2v10zm4 0h-2v-4h2v4z\"/>\n",
              "    </g>\n",
              "</svg>\n",
              "      </button>\n",
              "\n",
              "<style>\n",
              "  .colab-df-quickchart {\n",
              "      --bg-color: #E8F0FE;\n",
              "      --fill-color: #1967D2;\n",
              "      --hover-bg-color: #E2EBFA;\n",
              "      --hover-fill-color: #174EA6;\n",
              "      --disabled-fill-color: #AAA;\n",
              "      --disabled-bg-color: #DDD;\n",
              "  }\n",
              "\n",
              "  [theme=dark] .colab-df-quickchart {\n",
              "      --bg-color: #3B4455;\n",
              "      --fill-color: #D2E3FC;\n",
              "      --hover-bg-color: #434B5C;\n",
              "      --hover-fill-color: #FFFFFF;\n",
              "      --disabled-bg-color: #3B4455;\n",
              "      --disabled-fill-color: #666;\n",
              "  }\n",
              "\n",
              "  .colab-df-quickchart {\n",
              "    background-color: var(--bg-color);\n",
              "    border: none;\n",
              "    border-radius: 50%;\n",
              "    cursor: pointer;\n",
              "    display: none;\n",
              "    fill: var(--fill-color);\n",
              "    height: 32px;\n",
              "    padding: 0;\n",
              "    width: 32px;\n",
              "  }\n",
              "\n",
              "  .colab-df-quickchart:hover {\n",
              "    background-color: var(--hover-bg-color);\n",
              "    box-shadow: 0 1px 2px rgba(60, 64, 67, 0.3), 0 1px 3px 1px rgba(60, 64, 67, 0.15);\n",
              "    fill: var(--button-hover-fill-color);\n",
              "  }\n",
              "\n",
              "  .colab-df-quickchart-complete:disabled,\n",
              "  .colab-df-quickchart-complete:disabled:hover {\n",
              "    background-color: var(--disabled-bg-color);\n",
              "    fill: var(--disabled-fill-color);\n",
              "    box-shadow: none;\n",
              "  }\n",
              "\n",
              "  .colab-df-spinner {\n",
              "    border: 2px solid var(--fill-color);\n",
              "    border-color: transparent;\n",
              "    border-bottom-color: var(--fill-color);\n",
              "    animation:\n",
              "      spin 1s steps(1) infinite;\n",
              "  }\n",
              "\n",
              "  @keyframes spin {\n",
              "    0% {\n",
              "      border-color: transparent;\n",
              "      border-bottom-color: var(--fill-color);\n",
              "      border-left-color: var(--fill-color);\n",
              "    }\n",
              "    20% {\n",
              "      border-color: transparent;\n",
              "      border-left-color: var(--fill-color);\n",
              "      border-top-color: var(--fill-color);\n",
              "    }\n",
              "    30% {\n",
              "      border-color: transparent;\n",
              "      border-left-color: var(--fill-color);\n",
              "      border-top-color: var(--fill-color);\n",
              "      border-right-color: var(--fill-color);\n",
              "    }\n",
              "    40% {\n",
              "      border-color: transparent;\n",
              "      border-right-color: var(--fill-color);\n",
              "      border-top-color: var(--fill-color);\n",
              "    }\n",
              "    60% {\n",
              "      border-color: transparent;\n",
              "      border-right-color: var(--fill-color);\n",
              "    }\n",
              "    80% {\n",
              "      border-color: transparent;\n",
              "      border-right-color: var(--fill-color);\n",
              "      border-bottom-color: var(--fill-color);\n",
              "    }\n",
              "    90% {\n",
              "      border-color: transparent;\n",
              "      border-bottom-color: var(--fill-color);\n",
              "    }\n",
              "  }\n",
              "</style>\n",
              "\n",
              "      <script>\n",
              "        async function quickchart(key) {\n",
              "          const quickchartButtonEl =\n",
              "            document.querySelector('#' + key + ' button');\n",
              "          quickchartButtonEl.disabled = true;  // To prevent multiple clicks.\n",
              "          quickchartButtonEl.classList.add('colab-df-spinner');\n",
              "          try {\n",
              "            const charts = await google.colab.kernel.invokeFunction(\n",
              "                'suggestCharts', [key], {});\n",
              "          } catch (error) {\n",
              "            console.error('Error during call to suggestCharts:', error);\n",
              "          }\n",
              "          quickchartButtonEl.classList.remove('colab-df-spinner');\n",
              "          quickchartButtonEl.classList.add('colab-df-quickchart-complete');\n",
              "        }\n",
              "        (() => {\n",
              "          let quickchartButtonEl =\n",
              "            document.querySelector('#df-899941f7-3496-40b3-8ead-d2a2bd965f2e button');\n",
              "          quickchartButtonEl.style.display =\n",
              "            google.colab.kernel.accessAllowed ? 'block' : 'none';\n",
              "        })();\n",
              "      </script>\n",
              "    </div>\n",
              "\n",
              "    </div>\n",
              "  </div>\n"
            ],
            "application/vnd.google.colaboratory.intrinsic+json": {
              "type": "dataframe",
              "variable_name": "data",
              "summary": "{\n  \"name\": \"data\",\n  \"rows\": 75,\n  \"fields\": [\n    {\n      \"column\": \"Unpolished \",\n      \"properties\": {\n        \"dtype\": \"number\",\n        \"std\": 33.0418044136061,\n        \"min\": 48.40683839,\n        \"max\": 200.1613125,\n        \"num_unique_values\": 75,\n        \"samples\": [\n          135.2567483,\n          121.4075252,\n          95.34903009\n        ],\n        \"semantic_type\": \"\",\n        \"description\": \"\"\n      }\n    },\n    {\n      \"column\": \"Treated and Polished\",\n      \"properties\": {\n        \"dtype\": \"number\",\n        \"std\": 15.587355273119856,\n        \"min\": 107.5241671,\n        \"max\": 192.2728563,\n        \"num_unique_values\": 75,\n        \"samples\": [\n          136.7892272,\n          107.5241671,\n          145.8285257\n        ],\n        \"semantic_type\": \"\",\n        \"description\": \"\"\n      }\n    }\n  ]\n}"
            }
          },
          "metadata": {},
          "execution_count": 6
        }
      ]
    },
    {
      "cell_type": "markdown",
      "source": [
        "**Displaying the first 5 rows of the dataset**"
      ],
      "metadata": {
        "id": "dgRuejv9vqXo"
      }
    },
    {
      "cell_type": "markdown",
      "source": [
        "**This data set contain information**\n",
        "The dataset includes information about Polished and unpolished stons.\n"
      ],
      "metadata": {
        "id": "sGyI2G6Pv0nI"
      }
    },
    {
      "cell_type": "markdown",
      "source": [
        "**Understanding the shape of the dataset**"
      ],
      "metadata": {
        "id": "ARr5UvQFwTPg"
      }
    },
    {
      "cell_type": "code",
      "source": [
        "data.shape"
      ],
      "metadata": {
        "colab": {
          "base_uri": "https://localhost:8080/"
        },
        "id": "PtMCErNYwWY5",
        "outputId": "fbecf293-8d9f-46e6-f818-61df8892c022"
      },
      "execution_count": null,
      "outputs": [
        {
          "output_type": "execute_result",
          "data": {
            "text/plain": [
              "(75, 2)"
            ]
          },
          "metadata": {},
          "execution_count": 7
        }
      ]
    },
    {
      "cell_type": "markdown",
      "source": [
        "There are 75 rows and 2 columns in the dataset."
      ],
      "metadata": {
        "id": "fMTp6-OEwalN"
      }
    },
    {
      "cell_type": "markdown",
      "source": [
        "Checking the data types of the columns for the dataset"
      ],
      "metadata": {
        "id": "3g-tng4dwgRY"
      }
    },
    {
      "cell_type": "code",
      "source": [
        "data.info()"
      ],
      "metadata": {
        "colab": {
          "base_uri": "https://localhost:8080/"
        },
        "id": "qp-CE6k0whNW",
        "outputId": "90836563-7121-4b85-cb19-39eea334daf1"
      },
      "execution_count": null,
      "outputs": [
        {
          "output_type": "stream",
          "name": "stdout",
          "text": [
            "<class 'pandas.core.frame.DataFrame'>\n",
            "RangeIndex: 75 entries, 0 to 74\n",
            "Data columns (total 2 columns):\n",
            " #   Column                Non-Null Count  Dtype  \n",
            "---  ------                --------------  -----  \n",
            " 0   Unpolished            75 non-null     float64\n",
            " 1   Treated and Polished  75 non-null     float64\n",
            "dtypes: float64(2)\n",
            "memory usage: 1.3 KB\n"
          ]
        }
      ]
    },
    {
      "cell_type": "markdown",
      "source": [
        "Both The columns Unpolished and Treate and Polished are Float Type"
      ],
      "metadata": {
        "id": "9pyvWnajwoo7"
      }
    },
    {
      "cell_type": "markdown",
      "source": [
        "Getting the statistical summary for the dataset"
      ],
      "metadata": {
        "id": "CrM2ghBrwz0W"
      }
    },
    {
      "cell_type": "code",
      "source": [
        "data.describe().T"
      ],
      "metadata": {
        "colab": {
          "base_uri": "https://localhost:8080/",
          "height": 112
        },
        "id": "gDeZJzUSw0XL",
        "outputId": "56673d93-6a9e-47aa-a127-25e51516c658"
      },
      "execution_count": null,
      "outputs": [
        {
          "output_type": "execute_result",
          "data": {
            "text/plain": [
              "                      count        mean        std         min         25%  \\\n",
              "Unpolished             75.0  134.110527  33.041804   48.406838  115.329753   \n",
              "Treated and Polished   75.0  147.788117  15.587355  107.524167  138.268300   \n",
              "\n",
              "                             50%         75%         max  \n",
              "Unpolished            135.597121  158.215098  200.161313  \n",
              "Treated and Polished  145.721322  157.373318  192.272856  "
            ],
            "text/html": [
              "\n",
              "  <div id=\"df-b675133a-fe67-46cd-b89e-08022411c50b\" class=\"colab-df-container\">\n",
              "    <div>\n",
              "<style scoped>\n",
              "    .dataframe tbody tr th:only-of-type {\n",
              "        vertical-align: middle;\n",
              "    }\n",
              "\n",
              "    .dataframe tbody tr th {\n",
              "        vertical-align: top;\n",
              "    }\n",
              "\n",
              "    .dataframe thead th {\n",
              "        text-align: right;\n",
              "    }\n",
              "</style>\n",
              "<table border=\"1\" class=\"dataframe\">\n",
              "  <thead>\n",
              "    <tr style=\"text-align: right;\">\n",
              "      <th></th>\n",
              "      <th>count</th>\n",
              "      <th>mean</th>\n",
              "      <th>std</th>\n",
              "      <th>min</th>\n",
              "      <th>25%</th>\n",
              "      <th>50%</th>\n",
              "      <th>75%</th>\n",
              "      <th>max</th>\n",
              "    </tr>\n",
              "  </thead>\n",
              "  <tbody>\n",
              "    <tr>\n",
              "      <th>Unpolished</th>\n",
              "      <td>75.0</td>\n",
              "      <td>134.110527</td>\n",
              "      <td>33.041804</td>\n",
              "      <td>48.406838</td>\n",
              "      <td>115.329753</td>\n",
              "      <td>135.597121</td>\n",
              "      <td>158.215098</td>\n",
              "      <td>200.161313</td>\n",
              "    </tr>\n",
              "    <tr>\n",
              "      <th>Treated and Polished</th>\n",
              "      <td>75.0</td>\n",
              "      <td>147.788117</td>\n",
              "      <td>15.587355</td>\n",
              "      <td>107.524167</td>\n",
              "      <td>138.268300</td>\n",
              "      <td>145.721322</td>\n",
              "      <td>157.373318</td>\n",
              "      <td>192.272856</td>\n",
              "    </tr>\n",
              "  </tbody>\n",
              "</table>\n",
              "</div>\n",
              "    <div class=\"colab-df-buttons\">\n",
              "\n",
              "  <div class=\"colab-df-container\">\n",
              "    <button class=\"colab-df-convert\" onclick=\"convertToInteractive('df-b675133a-fe67-46cd-b89e-08022411c50b')\"\n",
              "            title=\"Convert this dataframe to an interactive table.\"\n",
              "            style=\"display:none;\">\n",
              "\n",
              "  <svg xmlns=\"http://www.w3.org/2000/svg\" height=\"24px\" viewBox=\"0 -960 960 960\">\n",
              "    <path d=\"M120-120v-720h720v720H120Zm60-500h600v-160H180v160Zm220 220h160v-160H400v160Zm0 220h160v-160H400v160ZM180-400h160v-160H180v160Zm440 0h160v-160H620v160ZM180-180h160v-160H180v160Zm440 0h160v-160H620v160Z\"/>\n",
              "  </svg>\n",
              "    </button>\n",
              "\n",
              "  <style>\n",
              "    .colab-df-container {\n",
              "      display:flex;\n",
              "      gap: 12px;\n",
              "    }\n",
              "\n",
              "    .colab-df-convert {\n",
              "      background-color: #E8F0FE;\n",
              "      border: none;\n",
              "      border-radius: 50%;\n",
              "      cursor: pointer;\n",
              "      display: none;\n",
              "      fill: #1967D2;\n",
              "      height: 32px;\n",
              "      padding: 0 0 0 0;\n",
              "      width: 32px;\n",
              "    }\n",
              "\n",
              "    .colab-df-convert:hover {\n",
              "      background-color: #E2EBFA;\n",
              "      box-shadow: 0px 1px 2px rgba(60, 64, 67, 0.3), 0px 1px 3px 1px rgba(60, 64, 67, 0.15);\n",
              "      fill: #174EA6;\n",
              "    }\n",
              "\n",
              "    .colab-df-buttons div {\n",
              "      margin-bottom: 4px;\n",
              "    }\n",
              "\n",
              "    [theme=dark] .colab-df-convert {\n",
              "      background-color: #3B4455;\n",
              "      fill: #D2E3FC;\n",
              "    }\n",
              "\n",
              "    [theme=dark] .colab-df-convert:hover {\n",
              "      background-color: #434B5C;\n",
              "      box-shadow: 0px 1px 3px 1px rgba(0, 0, 0, 0.15);\n",
              "      filter: drop-shadow(0px 1px 2px rgba(0, 0, 0, 0.3));\n",
              "      fill: #FFFFFF;\n",
              "    }\n",
              "  </style>\n",
              "\n",
              "    <script>\n",
              "      const buttonEl =\n",
              "        document.querySelector('#df-b675133a-fe67-46cd-b89e-08022411c50b button.colab-df-convert');\n",
              "      buttonEl.style.display =\n",
              "        google.colab.kernel.accessAllowed ? 'block' : 'none';\n",
              "\n",
              "      async function convertToInteractive(key) {\n",
              "        const element = document.querySelector('#df-b675133a-fe67-46cd-b89e-08022411c50b');\n",
              "        const dataTable =\n",
              "          await google.colab.kernel.invokeFunction('convertToInteractive',\n",
              "                                                    [key], {});\n",
              "        if (!dataTable) return;\n",
              "\n",
              "        const docLinkHtml = 'Like what you see? Visit the ' +\n",
              "          '<a target=\"_blank\" href=https://colab.research.google.com/notebooks/data_table.ipynb>data table notebook</a>'\n",
              "          + ' to learn more about interactive tables.';\n",
              "        element.innerHTML = '';\n",
              "        dataTable['output_type'] = 'display_data';\n",
              "        await google.colab.output.renderOutput(dataTable, element);\n",
              "        const docLink = document.createElement('div');\n",
              "        docLink.innerHTML = docLinkHtml;\n",
              "        element.appendChild(docLink);\n",
              "      }\n",
              "    </script>\n",
              "  </div>\n",
              "\n",
              "\n",
              "    <div id=\"df-1bba443a-c9cf-4046-868c-b195f31f702c\">\n",
              "      <button class=\"colab-df-quickchart\" onclick=\"quickchart('df-1bba443a-c9cf-4046-868c-b195f31f702c')\"\n",
              "                title=\"Suggest charts\"\n",
              "                style=\"display:none;\">\n",
              "\n",
              "<svg xmlns=\"http://www.w3.org/2000/svg\" height=\"24px\"viewBox=\"0 0 24 24\"\n",
              "     width=\"24px\">\n",
              "    <g>\n",
              "        <path d=\"M19 3H5c-1.1 0-2 .9-2 2v14c0 1.1.9 2 2 2h14c1.1 0 2-.9 2-2V5c0-1.1-.9-2-2-2zM9 17H7v-7h2v7zm4 0h-2V7h2v10zm4 0h-2v-4h2v4z\"/>\n",
              "    </g>\n",
              "</svg>\n",
              "      </button>\n",
              "\n",
              "<style>\n",
              "  .colab-df-quickchart {\n",
              "      --bg-color: #E8F0FE;\n",
              "      --fill-color: #1967D2;\n",
              "      --hover-bg-color: #E2EBFA;\n",
              "      --hover-fill-color: #174EA6;\n",
              "      --disabled-fill-color: #AAA;\n",
              "      --disabled-bg-color: #DDD;\n",
              "  }\n",
              "\n",
              "  [theme=dark] .colab-df-quickchart {\n",
              "      --bg-color: #3B4455;\n",
              "      --fill-color: #D2E3FC;\n",
              "      --hover-bg-color: #434B5C;\n",
              "      --hover-fill-color: #FFFFFF;\n",
              "      --disabled-bg-color: #3B4455;\n",
              "      --disabled-fill-color: #666;\n",
              "  }\n",
              "\n",
              "  .colab-df-quickchart {\n",
              "    background-color: var(--bg-color);\n",
              "    border: none;\n",
              "    border-radius: 50%;\n",
              "    cursor: pointer;\n",
              "    display: none;\n",
              "    fill: var(--fill-color);\n",
              "    height: 32px;\n",
              "    padding: 0;\n",
              "    width: 32px;\n",
              "  }\n",
              "\n",
              "  .colab-df-quickchart:hover {\n",
              "    background-color: var(--hover-bg-color);\n",
              "    box-shadow: 0 1px 2px rgba(60, 64, 67, 0.3), 0 1px 3px 1px rgba(60, 64, 67, 0.15);\n",
              "    fill: var(--button-hover-fill-color);\n",
              "  }\n",
              "\n",
              "  .colab-df-quickchart-complete:disabled,\n",
              "  .colab-df-quickchart-complete:disabled:hover {\n",
              "    background-color: var(--disabled-bg-color);\n",
              "    fill: var(--disabled-fill-color);\n",
              "    box-shadow: none;\n",
              "  }\n",
              "\n",
              "  .colab-df-spinner {\n",
              "    border: 2px solid var(--fill-color);\n",
              "    border-color: transparent;\n",
              "    border-bottom-color: var(--fill-color);\n",
              "    animation:\n",
              "      spin 1s steps(1) infinite;\n",
              "  }\n",
              "\n",
              "  @keyframes spin {\n",
              "    0% {\n",
              "      border-color: transparent;\n",
              "      border-bottom-color: var(--fill-color);\n",
              "      border-left-color: var(--fill-color);\n",
              "    }\n",
              "    20% {\n",
              "      border-color: transparent;\n",
              "      border-left-color: var(--fill-color);\n",
              "      border-top-color: var(--fill-color);\n",
              "    }\n",
              "    30% {\n",
              "      border-color: transparent;\n",
              "      border-left-color: var(--fill-color);\n",
              "      border-top-color: var(--fill-color);\n",
              "      border-right-color: var(--fill-color);\n",
              "    }\n",
              "    40% {\n",
              "      border-color: transparent;\n",
              "      border-right-color: var(--fill-color);\n",
              "      border-top-color: var(--fill-color);\n",
              "    }\n",
              "    60% {\n",
              "      border-color: transparent;\n",
              "      border-right-color: var(--fill-color);\n",
              "    }\n",
              "    80% {\n",
              "      border-color: transparent;\n",
              "      border-right-color: var(--fill-color);\n",
              "      border-bottom-color: var(--fill-color);\n",
              "    }\n",
              "    90% {\n",
              "      border-color: transparent;\n",
              "      border-bottom-color: var(--fill-color);\n",
              "    }\n",
              "  }\n",
              "</style>\n",
              "\n",
              "      <script>\n",
              "        async function quickchart(key) {\n",
              "          const quickchartButtonEl =\n",
              "            document.querySelector('#' + key + ' button');\n",
              "          quickchartButtonEl.disabled = true;  // To prevent multiple clicks.\n",
              "          quickchartButtonEl.classList.add('colab-df-spinner');\n",
              "          try {\n",
              "            const charts = await google.colab.kernel.invokeFunction(\n",
              "                'suggestCharts', [key], {});\n",
              "          } catch (error) {\n",
              "            console.error('Error during call to suggestCharts:', error);\n",
              "          }\n",
              "          quickchartButtonEl.classList.remove('colab-df-spinner');\n",
              "          quickchartButtonEl.classList.add('colab-df-quickchart-complete');\n",
              "        }\n",
              "        (() => {\n",
              "          let quickchartButtonEl =\n",
              "            document.querySelector('#df-1bba443a-c9cf-4046-868c-b195f31f702c button');\n",
              "          quickchartButtonEl.style.display =\n",
              "            google.colab.kernel.accessAllowed ? 'block' : 'none';\n",
              "        })();\n",
              "      </script>\n",
              "    </div>\n",
              "\n",
              "    </div>\n",
              "  </div>\n"
            ],
            "application/vnd.google.colaboratory.intrinsic+json": {
              "type": "dataframe",
              "summary": "{\n  \"name\": \"data\",\n  \"rows\": 2,\n  \"fields\": [\n    {\n      \"column\": \"count\",\n      \"properties\": {\n        \"dtype\": \"number\",\n        \"std\": 0.0,\n        \"min\": 75.0,\n        \"max\": 75.0,\n        \"num_unique_values\": 1,\n        \"samples\": [\n          75.0\n        ],\n        \"semantic_type\": \"\",\n        \"description\": \"\"\n      }\n    },\n    {\n      \"column\": \"mean\",\n      \"properties\": {\n        \"dtype\": \"number\",\n        \"std\": 9.671517097211682,\n        \"min\": 134.11052653373332,\n        \"max\": 147.78811718133335,\n        \"num_unique_values\": 2,\n        \"samples\": [\n          147.78811718133335\n        ],\n        \"semantic_type\": \"\",\n        \"description\": \"\"\n      }\n    },\n    {\n      \"column\": \"std\",\n      \"properties\": {\n        \"dtype\": \"number\",\n        \"std\": 12.34215934911353,\n        \"min\": 15.587355273119856,\n        \"max\": 33.0418044136061,\n        \"num_unique_values\": 2,\n        \"samples\": [\n          15.587355273119856\n        ],\n        \"semantic_type\": \"\",\n        \"description\": \"\"\n      }\n    },\n    {\n      \"column\": \"min\",\n      \"properties\": {\n        \"dtype\": \"number\",\n        \"std\": 41.80226401647518,\n        \"min\": 48.40683839,\n        \"max\": 107.5241671,\n        \"num_unique_values\": 2,\n        \"samples\": [\n          107.5241671\n        ],\n        \"semantic_type\": \"\",\n        \"description\": \"\"\n      }\n    },\n    {\n      \"column\": \"25%\",\n      \"properties\": {\n        \"dtype\": \"number\",\n        \"std\": 16.22000199284499,\n        \"min\": 115.32975285,\n        \"max\": 138.26829965000002,\n        \"num_unique_values\": 2,\n        \"samples\": [\n          138.26829965000002\n        ],\n        \"semantic_type\": \"\",\n        \"description\": \"\"\n      }\n    },\n    {\n      \"column\": \"50%\",\n      \"properties\": {\n        \"dtype\": \"number\",\n        \"std\": 7.158890756931561,\n        \"min\": 135.5971212,\n        \"max\": 145.7213216,\n        \"num_unique_values\": 2,\n        \"samples\": [\n          145.7213216\n        ],\n        \"semantic_type\": \"\",\n        \"description\": \"\"\n      }\n    },\n    {\n      \"column\": \"75%\",\n      \"properties\": {\n        \"dtype\": \"number\",\n        \"std\": 0.595228381622559,\n        \"min\": 157.37331795,\n        \"max\": 158.215098,\n        \"num_unique_values\": 2,\n        \"samples\": [\n          157.37331795\n        ],\n        \"semantic_type\": \"\",\n        \"description\": \"\"\n      }\n    },\n    {\n      \"column\": \"max\",\n      \"properties\": {\n        \"dtype\": \"number\",\n        \"std\": 5.577980872113069,\n        \"min\": 192.2728563,\n        \"max\": 200.1613125,\n        \"num_unique_values\": 2,\n        \"samples\": [\n          192.2728563\n        ],\n        \"semantic_type\": \"\",\n        \"description\": \"\"\n      }\n    }\n  ]\n}"
            }
          },
          "metadata": {},
          "execution_count": 9
        }
      ]
    },
    {
      "cell_type": "markdown",
      "source": [
        "Max value of its is 200.16  and 1922.27 and min value for unpolished is 48.40 and 107.52 for treate and polished"
      ],
      "metadata": {
        "id": "u0UHZmyEw9hz"
      }
    },
    {
      "cell_type": "markdown",
      "source": [
        "**Checking** null value"
      ],
      "metadata": {
        "id": "R5V-nkOqxU0o"
      }
    },
    {
      "cell_type": "code",
      "source": [
        "data.isnull().sum()"
      ],
      "metadata": {
        "colab": {
          "base_uri": "https://localhost:8080/",
          "height": 146
        },
        "id": "AufEYI8JxC1V",
        "outputId": "fc490dc6-aa54-420a-8556-4367e2fb1158"
      },
      "execution_count": null,
      "outputs": [
        {
          "output_type": "execute_result",
          "data": {
            "text/plain": [
              "Unpolished              0\n",
              "Treated and Polished    0\n",
              "dtype: int64"
            ],
            "text/html": [
              "<div>\n",
              "<style scoped>\n",
              "    .dataframe tbody tr th:only-of-type {\n",
              "        vertical-align: middle;\n",
              "    }\n",
              "\n",
              "    .dataframe tbody tr th {\n",
              "        vertical-align: top;\n",
              "    }\n",
              "\n",
              "    .dataframe thead th {\n",
              "        text-align: right;\n",
              "    }\n",
              "</style>\n",
              "<table border=\"1\" class=\"dataframe\">\n",
              "  <thead>\n",
              "    <tr style=\"text-align: right;\">\n",
              "      <th></th>\n",
              "      <th>0</th>\n",
              "    </tr>\n",
              "  </thead>\n",
              "  <tbody>\n",
              "    <tr>\n",
              "      <th>Unpolished</th>\n",
              "      <td>0</td>\n",
              "    </tr>\n",
              "    <tr>\n",
              "      <th>Treated and Polished</th>\n",
              "      <td>0</td>\n",
              "    </tr>\n",
              "  </tbody>\n",
              "</table>\n",
              "</div><br><label><b>dtype:</b> int64</label>"
            ]
          },
          "metadata": {},
          "execution_count": 10
        }
      ]
    },
    {
      "cell_type": "markdown",
      "source": [
        "There is no any null value in data set\n"
      ],
      "metadata": {
        "id": "E1KBP1W2xZR4"
      }
    },
    {
      "cell_type": "markdown",
      "source": [
        "**3.1 Zingaro has reason to believe that the unpolished stones may not be suitable for printing. Do you think Zingaro is justified in thinking so?**"
      ],
      "metadata": {
        "id": "SkCJXJ6THdp9"
      }
    },
    {
      "cell_type": "markdown",
      "source": [
        "**mean hardness < 150 for unpolished stones**"
      ],
      "metadata": {
        "id": "xZVNX70pHion"
      }
    },
    {
      "cell_type": "markdown",
      "source": [
        "We're comparing a sample mean (unpolished stones) against a population threshold (150).\n",
        "\n",
        "**Population std dev is unknown → so t-test is appropriate**"
      ],
      "metadata": {
        "id": "TZVepE68HutL"
      }
    },
    {
      "cell_type": "markdown",
      "source": [
        "# Hypotheses:\n",
        "H0: μ = 150  #(mean hardness is 150)\n",
        "H1: μ < 150 #(mean hardness is less than 150)"
      ],
      "metadata": {
        "id": "7QLwywR-IAIA"
      }
    },
    {
      "cell_type": "code",
      "source": [
        "\n",
        "unpolished = data['Unpolished ']"
      ],
      "metadata": {
        "id": "sQKB3MI-HzqN"
      },
      "execution_count": null,
      "outputs": []
    },
    {
      "cell_type": "markdown",
      "source": [
        "\n",
        "# Perform one-sample t-test (left-tailed)\n"
      ],
      "metadata": {
        "id": "TFFpi4duIOnF"
      }
    },
    {
      "cell_type": "code",
      "source": [
        "t_stat, p_value = stats.ttest_1samp(unpolished, popmean=150)\n",
        "\n",
        "print(\"T-statistic:\", t_stat)\n",
        "print(\"P-value (one-tailed):\", p_value / 2)"
      ],
      "metadata": {
        "colab": {
          "base_uri": "https://localhost:8080/"
        },
        "id": "bJINdj7THjpi",
        "outputId": "1e8c5448-2ab0-4054-eb0d-0ba054729872"
      },
      "execution_count": null,
      "outputs": [
        {
          "output_type": "stream",
          "name": "stdout",
          "text": [
            "T-statistic: -4.164629601426757\n",
            "P-value (one-tailed): 4.171286997419652e-05\n"
          ]
        }
      ]
    },
    {
      "cell_type": "markdown",
      "source": [
        "**visual representation**"
      ],
      "metadata": {
        "id": "2PPXbgK8JQ5z"
      }
    },
    {
      "cell_type": "code",
      "source": [
        "sns.histplot(unpolished, kde=True)\n",
        "plt.axvline(150, color='red', linestyle='--', label='Printing Threshold (150)')\n",
        "plt.title(\"Hardness of Unpolished Stones\")\n",
        "plt.xlabel(\"Brinell Hardness\")\n",
        "plt.legend()\n",
        "plt.show()"
      ],
      "metadata": {
        "colab": {
          "base_uri": "https://localhost:8080/",
          "height": 472
        },
        "id": "rBocnkzLJR6n",
        "outputId": "f669d7cb-94d6-42d6-aec8-fa884b12f67a"
      },
      "execution_count": null,
      "outputs": [
        {
          "output_type": "display_data",
          "data": {
            "text/plain": [
              "<Figure size 640x480 with 1 Axes>"
            ],
            "image/png": "[encoded data removed]"
          },
          "metadata": {}
        }
      ]
    },
    {
      "cell_type": "markdown",
      "source": [
        "**Conclusion for 3.1 (Based on 5% level)**"
      ],
      "metadata": {
        "id": "OfLwUVLROZ5t"
      }
    },
    {
      "cell_type": "markdown",
      "metadata": {
        "id": "2626350b"
      },
      "source": [
        "Based on our analysis (with a 5% significance level), the p-value (4.17e-05) is much smaller than our significance level (0.05). This means we have strong evidence to reject the null hypothesis.\n",
        "\n",
        "**Conclusion for 3.1:** It seems Zingaro's concern is justified. There's enough evidence to conclude that the average hardness of unpolished stones is indeed less than 150, making them potentially unsuitable for their printing process."
      ]
    },
    {
      "cell_type": "markdown",
      "source": [
        "# Problem 3.2: Is the mean hardness of polished and unpolished stones the same?"
      ],
      "metadata": {
        "id": "JNBNs_6kOuIA"
      }
    },
    {
      "cell_type": "markdown",
      "source": [
        "Perfoming two-sample t-test"
      ],
      "metadata": {
        "id": "adidu-J-O3gx"
      }
    },
    {
      "cell_type": "markdown",
      "source": [
        "We are comparing two independent sample means (Polished vs Unpolished).\n",
        "\n",
        "Assumption: Data comes from normal distributions; use Welch's t-test (variance not assumed equal)."
      ],
      "metadata": {
        "id": "ek4f6z3TO9qf"
      }
    },
    {
      "cell_type": "code",
      "source": [
        "polished=data['Treated and Polished']\n",
        "unpolished = data['Unpolished ']"
      ],
      "metadata": {
        "id": "lximExwbPEFN"
      },
      "execution_count": null,
      "outputs": []
    },
    {
      "cell_type": "markdown",
      "source": [
        "\n",
        "Hypotheses for two-sample t-test:\n",
        "\n",
        "\n",
        "H0: μ_unpolished = μ_polished (mean hardness is the same)\n",
        "\n",
        "H1: μ_unpolished != μ_polished (mean hardness is different)"
      ],
      "metadata": {
        "id": "WVZBHv5AP5RQ"
      }
    },
    {
      "cell_type": "code",
      "source": [
        "\n",
        "\n",
        "t_stat_2sample, p_value_2sample = stats.ttest_ind(unpolished, polished, equal_var=False) # Welch's t-test\n",
        "\n",
        "print(\"Two-sample T-statistic:\", t_stat_2sample)\n",
        "print(\"Two-sample P-value:\", p_value_2sample)"
      ],
      "metadata": {
        "colab": {
          "base_uri": "https://localhost:8080/"
        },
        "id": "KYwkYr0fP20p",
        "outputId": "869ca70e-5fc4-44fa-cdc8-465bea275e5f"
      },
      "execution_count": null,
      "outputs": [
        {
          "output_type": "stream",
          "name": "stdout",
          "text": [
            "Two-sample T-statistic: -3.242232050141406\n",
            "Two-sample P-value: 0.001588379295584306\n"
          ]
        }
      ]
    },
    {
      "cell_type": "markdown",
      "source": [
        "# Create histograms"
      ],
      "metadata": {
        "id": "WcOAnTf3QLD-"
      }
    },
    {
      "cell_type": "code",
      "source": [
        "\n",
        "plt.figure(figsize=(10, 6))\n",
        "\n",
        "plt.subplot(1, 2, 1)\n",
        "sns.histplot(data['Unpolished '], kde=True, color='skyblue')\n",
        "plt.title(\"Hardness of Unpolished Stones\")\n",
        "plt.xlabel(\"Brinell Hardness\")\n",
        "plt.ylabel(\"Frequency\")\n",
        "\n",
        "plt.subplot(1, 2, 2)\n",
        "sns.histplot(data['Treated and Polished'], kde=True, color='lightgreen')\n",
        "plt.title(\"Hardness of Treated and Polished Stones\")\n",
        "plt.xlabel(\"Brinell Hardness\")\n",
        "plt.ylabel(\"Frequency\")\n",
        "\n",
        "plt.tight_layout()\n",
        "plt.show()"
      ],
      "metadata": {
        "colab": {
          "base_uri": "https://localhost:8080/",
          "height": 607
        },
        "id": "rbyUb4mwQOu6",
        "outputId": "e38286bd-5f7f-4e29-d610-ccd0dc2e848d"
      },
      "execution_count": null,
      "outputs": [
        {
          "output_type": "display_data",
          "data": {
            "text/plain": [
              "<Figure size 1000x600 with 2 Axes>"
            ],
            "image/png": "[encoded data removed]"
          },
          "metadata": {}
        }
      ]
    },
    {
      "cell_type": "markdown",
      "source": [
        "Based on the histograms, here are some conclusions you can draw:\n",
        "\n",
        "**Unpolished Stones:** The histogram for unpolished stones appears to be more spread out, with a notable portion of stones having hardness values below the 150 threshold required for printing. The distribution seems to be somewhat skewed towards lower hardness values.\n",
        "\n",
        "**Treated and Polished Stones:** The histogram for treated and polished stones appears to be more centered around higher hardness values, with a larger concentration of stones at or above the 150 threshold. The distribution seems less spread out than the unpolished stones."
      ],
      "metadata": {
        "id": "0eJDWayfWdh3"
      }
    },
    {
      "cell_type": "markdown",
      "source": [
        "**Conclusion for 3.2 (5% significance)**"
      ],
      "metadata": {
        "id": "YiTMzmiVQgAV"
      }
    },
    {
      "cell_type": "markdown",
      "metadata": {
        "id": "06bbd95b"
      },
      "source": [
        "With a p-value of 0.00158, which is well below our 5% significance level (0.05), we can confidently reject the null hypothesis.\n",
        "\n",
        "**Conclusion for 3.2:** Yes, the statistical test shows a significant difference in the average hardness between the treated and polished stones and the unpolished stones. They are not the same."
      ]
    }
  ]
}